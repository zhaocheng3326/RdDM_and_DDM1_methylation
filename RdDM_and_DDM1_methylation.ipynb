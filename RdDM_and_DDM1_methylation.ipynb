{
 "cells": [
  {
   "cell_type": "markdown",
   "metadata": {},
   "source": [
    "# RdDM and DDM1 methylation"
   ]
  },
  {
   "cell_type": "markdown",
   "metadata": {},
   "source": [
    "## Analysis pipeline"
   ]
  },
  {
   "cell_type": "markdown",
   "metadata": {},
   "source": [
    "#### 1 BS-Seq analysis\n",
    "\n",
    "`source /home/czhao/My_project/DDM1_RdDM_BSseq/bin/source.bash`\n",
    "\n",
    "`\n",
    "qsub BSMAP_step1.bash\n",
    "qsub BSMAP_step2.bash\n",
    "bash BSMAP_step3.bash\n",
    "bash  WIG_make.bash\n",
    "qsub DMR_work.bash\n",
    "bash Class_region_parameter_driver.bash\n",
    "qsub Sample_class_region_ML.bash\n",
    "qsub Enzemy_class_region_ML.bash\n",
    "bash Class_region_parameter_driver.bash next\n",
    "bash machine_learing.bash\n",
    "qsub TE_copy_number.bash\n",
    "bash DE_copy_number.bash\n",
    "`"
   ]
  },
  {
   "cell_type": "markdown",
   "metadata": {},
   "source": [
    "#### 2 RNA-Seq analysis\n",
    "\n",
    "`/home/czhao/My_project/DDM1_RdDM_RNAseq/bin/source.bash`\n",
    "\n",
    "`\n",
    "cd $BIN\n",
    "qsub QC.bash\n",
    "qsub tophat_htseq.bash\n",
    "bash DEG.bash\n",
    "`\n",
    "\n"
   ]
  },
  {
   "cell_type": "markdown",
   "metadata": {},
   "source": [
    "#### 3 Results"
   ]
  },
  {
   "cell_type": "code",
   "execution_count": 4,
   "metadata": {
    "collapsed": true
   },
   "outputs": [],
   "source": [
    "from IPython import display"
   ]
  },
  {
   "cell_type": "code",
   "execution_count": 5,
   "metadata": {
    "collapsed": false
   },
   "outputs": [
    {
     "data": {
      "text/html": [
       "\n",
       "        <iframe\n",
       "            width=\"900\"\n",
       "            height=\"600\"\n",
       "            src=\"notebook_material/RdDM_and_DDM1_methylation.pdf\"\n",
       "            frameborder=\"0\"\n",
       "            allowfullscreen\n",
       "        ></iframe>\n",
       "        "
      ],
      "text/plain": [
       "<IPython.lib.display.IFrame at 0x7f8263141910>"
      ]
     },
     "execution_count": 5,
     "metadata": {},
     "output_type": "execute_result"
    }
   ],
   "source": [
    "display.IFrame(\"notebook_material/RdDM_and_DDM1_methylation.pdf\",width=900,height=600)"
   ]
  },
  {
   "cell_type": "code",
   "execution_count": null,
   "metadata": {
    "collapsed": true
   },
   "outputs": [],
   "source": []
  }
 ],
 "metadata": {
  "anaconda-cloud": {},
  "kernelspec": {
   "display_name": "Python [conda root]",
   "language": "python",
   "name": "conda-root-py"
  },
  "language_info": {
   "codemirror_mode": {
    "name": "ipython",
    "version": 2
   },
   "file_extension": ".py",
   "mimetype": "text/x-python",
   "name": "python",
   "nbconvert_exporter": "python",
   "pygments_lexer": "ipython2",
   "version": "2.7.12"
  }
 },
 "nbformat": 4,
 "nbformat_minor": 1
}
